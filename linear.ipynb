{
 "cells": [
  {
   "cell_type": "markdown",
   "metadata": {},
   "source": [
    "# linear algebra assignment"
   ]
  },
  {
   "cell_type": "code",
   "execution_count": 1,
   "metadata": {},
   "outputs": [],
   "source": [
    "import numpy as np\n",
    "import numpy.linalg as LA"
   ]
  },
  {
   "cell_type": "markdown",
   "metadata": {},
   "source": [
    "## qsn-1"
   ]
  },
  {
   "cell_type": "markdown",
   "metadata": {},
   "source": [
    "## Matrix operation"
   ]
  },
  {
   "cell_type": "code",
   "execution_count": 2,
   "metadata": {},
   "outputs": [
    {
     "name": "stdout",
     "output_type": "stream",
     "text": [
      "[[ 3  1]\n",
      " [-3  7]]\n",
      "---------------\n",
      "[[ 2 -2]\n",
      " [ 0 12]]\n",
      "---------------\n",
      "[[ 4 -7]\n",
      " [ 6  1]]\n"
     ]
    }
   ],
   "source": [
    "A = np.array([[2,-1],[0,3]])\n",
    "B = np.array([[1,2],[-3,4]])\n",
    "\n",
    "print(A + B)\n",
    "print(\"-\"*15)\n",
    "print(A * B)\n",
    "print(\"-\"*15)\n",
    "print(3*A - 2*B)"
   ]
  },
  {
   "cell_type": "markdown",
   "metadata": {},
   "source": [
    "## Qsn-2"
   ]
  },
  {
   "cell_type": "markdown",
   "metadata": {},
   "source": [
    "## Determinants and inverses"
   ]
  },
  {
   "cell_type": "code",
   "execution_count": 6,
   "metadata": {},
   "outputs": [
    {
     "name": "stdout",
     "output_type": "stream",
     "text": [
      "Inverse:  [[0.5        0.16666667]\n",
      " [0.         0.33333333]]\n",
      "\n",
      "Determinant :  6.0\n"
     ]
    }
   ],
   "source": [
    "determinant = np.linalg.det(A)\n",
    "if(determinant != 0):\n",
    "    print(\"Inverse: \",LA.inv(A))\n",
    "    print(\"\\nDeterminant : \",determinant)\n",
    "else:\n",
    "    print(\"Unable to Calculate Determinant\")"
   ]
  },
  {
   "cell_type": "markdown",
   "metadata": {},
   "source": [
    "## Qsn-3"
   ]
  },
  {
   "cell_type": "markdown",
   "metadata": {},
   "source": [
    "## Eigenvalues and Eigenvectors"
   ]
  },
  {
   "cell_type": "code",
   "execution_count": 11,
   "metadata": {},
   "outputs": [
    {
     "name": "stdout",
     "output_type": "stream",
     "text": [
      "The eigen values of matrix A are: [2. 3.]\n",
      "\n",
      "The eigen vectors of matrix A are: [[ 1.         -0.70710678]\n",
      " [ 0.          0.70710678]]\n"
     ]
    }
   ],
   "source": [
    "C = np.array([[4,1],[-2,1]])\n",
    "egval,egvec = np.linalg.eig(A)\n",
    "print(f\"The eigen values of matrix A are: {egval}\")\n",
    "print()\n",
    "print(f\"The eigen vectors of matrix A are: {egvec}\")"
   ]
  },
  {
   "cell_type": "markdown",
   "metadata": {},
   "source": [
    "# qsn-4"
   ]
  },
  {
   "cell_type": "markdown",
   "metadata": {},
   "source": [
    "## find price of car 3"
   ]
  },
  {
   "cell_type": "code",
   "execution_count": 12,
   "metadata": {},
   "outputs": [
    {
     "name": "stdout",
     "output_type": "stream",
     "text": [
      "Predicted price :  40.00000000000283\n"
     ]
    }
   ],
   "source": [
    "X = np.array([[4,1.5,100],[6,2.0,150]])\n",
    "X_req = np.array([8,3.0,200])\n",
    "Y = np.array([20,30])\n",
    "beta = LA.pinv(X.T @ X) @ (X.T @ Y)\n",
    "new_price = X_req @ beta\n",
    "print(\"Predicted price : \",new_price)"
   ]
  }
 ],
 "metadata": {
  "kernelspec": {
   "display_name": "Python 3",
   "language": "python",
   "name": "python3"
  },
  "language_info": {
   "codemirror_mode": {
    "name": "ipython",
    "version": 3
   },
   "file_extension": ".py",
   "mimetype": "text/x-python",
   "name": "python",
   "nbconvert_exporter": "python",
   "pygments_lexer": "ipython3",
   "version": "3.13.0"
  }
 },
 "nbformat": 4,
 "nbformat_minor": 2
}
